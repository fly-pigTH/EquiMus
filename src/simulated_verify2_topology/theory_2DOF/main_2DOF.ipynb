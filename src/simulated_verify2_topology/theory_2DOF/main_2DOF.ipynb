{
 "cells": [
  {
   "cell_type": "markdown",
   "id": "90667042",
   "metadata": {},
   "source": [
    "Please move to `src/validation_simulation/morphology/theory_2DOF/main_2DOF.ipynb`."
   ]
  }
 ],
 "metadata": {
  "language_info": {
   "name": "python"
  }
 },
 "nbformat": 4,
 "nbformat_minor": 5
}
